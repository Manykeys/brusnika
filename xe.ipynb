{
 "cells": [
  {
   "cell_type": "markdown",
   "metadata": {},
   "source": [
    "Задача 1\n",
    "H0 : то что дано по условию\n",
    "Статистика попала в промежуток - гипотеза верна\n",
    "(p value > alfa =>  принимаем)\n",
    "И в промежуток еще попало квантилей"
   ]
  },
  {
   "cell_type": "code",
   "execution_count": 55,
   "metadata": {},
   "outputs": [
    {
     "data": {
      "text/plain": [
       "(1.0625, -1.9599639845400545, 1.959963984540054, 0.4800611941616275)"
      ]
     },
     "execution_count": 55,
     "metadata": {},
     "output_type": "execute_result"
    }
   ],
   "source": [
    "import scipy\n",
    "import scipy.stats\n",
    "n = 25\n",
    "mean = 0.85\n",
    "sigma = 4\n",
    "m = 0\n",
    "Y = n ** 0.5 * (mean - m) / sigma\n",
    "t1 = scipy.stats.norm.ppf(0.05 / 2)\n",
    "t2 = scipy.stats.norm.ppf(1 - 0.05 / 2)\n",
    "pv = scipy.stats.norm.sf(0.05)\n",
    "Y, t1, t2, pv"
   ]
  },
  {
   "cell_type": "markdown",
   "metadata": {},
   "source": [
    "Задача 2\n",
    "Воспользуюсь формулой дисперсии;\n",
    "H0: дисперсия=9\n",
    "H1: дисперсия > 9\n",
    "Найду p value, если меньше alfa то отклоняем H0, иначе принимаем\n",
    "pv = 0.07 > 0.05 - принимаем\n",
    "+попало в квантили"
   ]
  },
  {
   "cell_type": "code",
   "execution_count": 51,
   "metadata": {},
   "outputs": [
    {
     "data": {
      "text/plain": [
       "(36.0, 13.11972002493778, 40.6464691202752, 0.07159986231693158)"
      ]
     },
     "execution_count": 51,
     "metadata": {},
     "output_type": "execute_result"
    }
   ],
   "source": [
    "import scipy\n",
    "import scipy.stats\n",
    "n = 25\n",
    "s = 13.5\n",
    "sigma = 3\n",
    "m = 0\n",
    "Y = (n-1) * s / sigma ** 2\n",
    "t1 = scipy.stats.chi2.ppf(0.05/2, df=n)\n",
    "t2 = scipy.stats.chi2.ppf(1 - 0.05/2, df=n)\n",
    "Y, t1, t2\n",
    "pv = scipy.stats.chi2.sf(Y, df=n)\n",
    "Y, t1, t2, pv"
   ]
  },
  {
   "cell_type": "markdown",
   "metadata": {},
   "source": [
    "Задача 3\n",
    "H0: p=1222\n",
    "H1: p>1222\n",
    "Найду p value, если меньше alfa то отклоняем H0, иначе принимаем"
   ]
  },
  {
   "cell_type": "code",
   "execution_count": 38,
   "metadata": {},
   "outputs": [
    {
     "name": "stdout",
     "output_type": "stream",
     "text": [
      "True\n"
     ]
    },
    {
     "data": {
      "text/plain": [
       "(9.854520598850497,\n",
       " -2.1700903775845606,\n",
       " 2.17009037758456,\n",
       " 1.9344281555829465e-12)"
      ]
     },
     "execution_count": 38,
     "metadata": {},
     "output_type": "execute_result"
    }
   ],
   "source": [
    "import math\n",
    "pars = [1380, 1344, 1356, 1291, 1308, 1271, 1371, 1430, 1381, 1457, \n",
    "\t1492, 1240, 1256, 1466, 1214, 1448, 1510, 1395, 1507, 1264, \n",
    "\t1293, 1251, 1380, 1386, 1411, 1434, 1302, 1529, 1352, 1494, \n",
    "\t1348, 1464, 1286, 1345, 1491, 1259, 1541, 1214, 1310, 1286 ]\n",
    "m = 1222\n",
    "n = len(pars)\n",
    "avg = sum(pars) / n\n",
    "s = math.sqrt(1/(n-1) * sum([( p - avg) ** 2 for p in pars]))\n",
    "avg, s\n",
    "Y = (n ** 0.5) * ((avg - m) / s) \n",
    "t1 = scipy.stats.norm.ppf(0.03 / 2)\n",
    "t2 = scipy.stats.norm.ppf(1 - 0.03 / 2)\n",
    "pv = scipy.stats.t.sf(Y, df=n-1)\n",
    "print(pv <= 0.03) # Значит H0 отклоняем\n",
    "Y, t1, t2, pv"
   ]
  },
  {
   "cell_type": "markdown",
   "metadata": {},
   "source": [
    "Задача 4\n",
    "Беру последнюю формулу для бернулли, для него нормальное распределение, нахожу p value \n",
    "Если < alfa, то отвергаю;\n",
    "получилось, что 1, значит, что в обоих случаях отвергаем"
   ]
  },
  {
   "cell_type": "code",
   "execution_count": 74,
   "metadata": {},
   "outputs": [
    {
     "data": {
      "text/plain": [
       "(-10.709939833863677, -2.3263478740408408, 2.3263478740408408, 1.0)"
      ]
     },
     "execution_count": 74,
     "metadata": {},
     "output_type": "execute_result"
    }
   ],
   "source": [
    "import numpy as np\n",
    "pp = 60 / 747\n",
    "p = 3 / 12\n",
    "n = 747\n",
    "Y = ((pp - p) * n ** 0.5) / (p * (1 - p)) ** 0.5\n",
    "\n",
    "t1 = scipy.stats.norm.ppf(0.02 / 2)\n",
    "t2 = scipy.stats.norm.ppf(1 - 0.02 / 2)\n",
    "pv = scipy.stats.norm.sf(Y)\n",
    "Y, t1, t2\n",
    "Y, t1, t2, pv"
   ]
  }
 ],
 "metadata": {
  "kernelspec": {
   "display_name": "Python 3",
   "language": "python",
   "name": "python3"
  },
  "language_info": {
   "codemirror_mode": {
    "name": "ipython",
    "version": 3
   },
   "file_extension": ".py",
   "mimetype": "text/x-python",
   "name": "python",
   "nbconvert_exporter": "python",
   "pygments_lexer": "ipython3",
   "version": "3.11.9"
  }
 },
 "nbformat": 4,
 "nbformat_minor": 2
}
