{
 "cells": [
  {
   "cell_type": "code",
   "execution_count": 1,
   "metadata": {},
   "outputs": [
    {
     "name": "stderr",
     "output_type": "stream",
     "text": [
      "C:\\Users\\kopyr\\AppData\\Local\\Packages\\PythonSoftwareFoundation.Python.3.11_qbz5n2kfra8p0\\LocalCache\\local-packages\\Python311\\site-packages\\tqdm\\auto.py:21: TqdmWarning: IProgress not found. Please update jupyter and ipywidgets. See https://ipywidgets.readthedocs.io/en/stable/user_install.html\n",
      "  from .autonotebook import tqdm as notebook_tqdm\n",
      "C:\\Users\\kopyr\\AppData\\Local\\Packages\\PythonSoftwareFoundation.Python.3.11_qbz5n2kfra8p0\\LocalCache\\local-packages\\Python311\\site-packages\\huggingface_hub\\file_download.py:148: UserWarning: `huggingface_hub` cache-system uses symlinks by default to efficiently store duplicated files but your machine does not support them in C:\\Users\\kopyr\\.cache\\huggingface\\hub\\models--havenhq--mamba-chat. Caching files will still work but in a degraded version that might require more space on your disk. This warning can be disabled by setting the `HF_HUB_DISABLE_SYMLINKS_WARNING` environment variable. For more details, see https://huggingface.co/docs/huggingface_hub/how-to-cache#limitations.\n",
      "To support symlinks on Windows, you either need to activate Developer Mode or to run Python as an administrator. In order to see activate developer mode, see this article: https://docs.microsoft.com/en-us/windows/apps/get-started/enable-your-device-for-development\n",
      "  warnings.warn(message)\n"
     ]
    },
    {
     "ename": "ChunkedEncodingError",
     "evalue": "('Connection broken: IncompleteRead(923207993 bytes read, 4624870561 more expected)', IncompleteRead(923207993 bytes read, 4624870561 more expected))",
     "output_type": "error",
     "traceback": [
      "\u001b[1;31m---------------------------------------------------------------------------\u001b[0m",
      "\u001b[1;31mIncompleteRead\u001b[0m                            Traceback (most recent call last)",
      "File \u001b[1;32m~\\AppData\\Local\\Packages\\PythonSoftwareFoundation.Python.3.11_qbz5n2kfra8p0\\LocalCache\\local-packages\\Python311\\site-packages\\urllib3\\response.py:737\u001b[0m, in \u001b[0;36mHTTPResponse._error_catcher\u001b[1;34m(self)\u001b[0m\n\u001b[0;32m    736\u001b[0m \u001b[38;5;28;01mtry\u001b[39;00m:\n\u001b[1;32m--> 737\u001b[0m     \u001b[38;5;28;01myield\u001b[39;00m\n\u001b[0;32m    739\u001b[0m \u001b[38;5;28;01mexcept\u001b[39;00m SocketTimeout \u001b[38;5;28;01mas\u001b[39;00m e:\n\u001b[0;32m    740\u001b[0m     \u001b[38;5;66;03m# FIXME: Ideally we'd like to include the url in the ReadTimeoutError but\u001b[39;00m\n\u001b[0;32m    741\u001b[0m     \u001b[38;5;66;03m# there is yet no clean way to get at it from this context.\u001b[39;00m\n",
      "File \u001b[1;32m~\\AppData\\Local\\Packages\\PythonSoftwareFoundation.Python.3.11_qbz5n2kfra8p0\\LocalCache\\local-packages\\Python311\\site-packages\\urllib3\\response.py:883\u001b[0m, in \u001b[0;36mHTTPResponse._raw_read\u001b[1;34m(self, amt, read1)\u001b[0m\n\u001b[0;32m    873\u001b[0m     \u001b[38;5;28;01mif\u001b[39;00m (\n\u001b[0;32m    874\u001b[0m         \u001b[38;5;28mself\u001b[39m\u001b[38;5;241m.\u001b[39menforce_content_length\n\u001b[0;32m    875\u001b[0m         \u001b[38;5;129;01mand\u001b[39;00m \u001b[38;5;28mself\u001b[39m\u001b[38;5;241m.\u001b[39mlength_remaining \u001b[38;5;129;01mis\u001b[39;00m \u001b[38;5;129;01mnot\u001b[39;00m \u001b[38;5;28;01mNone\u001b[39;00m\n\u001b[1;32m   (...)\u001b[0m\n\u001b[0;32m    881\u001b[0m         \u001b[38;5;66;03m# raised during streaming, so all calls with incorrect\u001b[39;00m\n\u001b[0;32m    882\u001b[0m         \u001b[38;5;66;03m# Content-Length are caught.\u001b[39;00m\n\u001b[1;32m--> 883\u001b[0m         \u001b[38;5;28;01mraise\u001b[39;00m IncompleteRead(\u001b[38;5;28mself\u001b[39m\u001b[38;5;241m.\u001b[39m_fp_bytes_read, \u001b[38;5;28mself\u001b[39m\u001b[38;5;241m.\u001b[39mlength_remaining)\n\u001b[0;32m    884\u001b[0m \u001b[38;5;28;01melif\u001b[39;00m read1 \u001b[38;5;129;01mand\u001b[39;00m (\n\u001b[0;32m    885\u001b[0m     (amt \u001b[38;5;241m!=\u001b[39m \u001b[38;5;241m0\u001b[39m \u001b[38;5;129;01mand\u001b[39;00m \u001b[38;5;129;01mnot\u001b[39;00m data) \u001b[38;5;129;01mor\u001b[39;00m \u001b[38;5;28mself\u001b[39m\u001b[38;5;241m.\u001b[39mlength_remaining \u001b[38;5;241m==\u001b[39m \u001b[38;5;28mlen\u001b[39m(data)\n\u001b[0;32m    886\u001b[0m ):\n\u001b[1;32m   (...)\u001b[0m\n\u001b[0;32m    889\u001b[0m     \u001b[38;5;66;03m# `http.client.HTTPResponse`, so we close it here.\u001b[39;00m\n\u001b[0;32m    890\u001b[0m     \u001b[38;5;66;03m# See https://github.com/python/cpython/issues/113199\u001b[39;00m\n",
      "\u001b[1;31mIncompleteRead\u001b[0m: IncompleteRead(923207993 bytes read, 4624870561 more expected)",
      "\nThe above exception was the direct cause of the following exception:\n",
      "\u001b[1;31mProtocolError\u001b[0m                             Traceback (most recent call last)",
      "File \u001b[1;32m~\\AppData\\Local\\Packages\\PythonSoftwareFoundation.Python.3.11_qbz5n2kfra8p0\\LocalCache\\local-packages\\Python311\\site-packages\\requests\\models.py:816\u001b[0m, in \u001b[0;36mResponse.iter_content.<locals>.generate\u001b[1;34m()\u001b[0m\n\u001b[0;32m    815\u001b[0m \u001b[38;5;28;01mtry\u001b[39;00m:\n\u001b[1;32m--> 816\u001b[0m     \u001b[38;5;28;01myield from\u001b[39;00m \u001b[38;5;28mself\u001b[39m\u001b[38;5;241m.\u001b[39mraw\u001b[38;5;241m.\u001b[39mstream(chunk_size, decode_content\u001b[38;5;241m=\u001b[39m\u001b[38;5;28;01mTrue\u001b[39;00m)\n\u001b[0;32m    817\u001b[0m \u001b[38;5;28;01mexcept\u001b[39;00m ProtocolError \u001b[38;5;28;01mas\u001b[39;00m e:\n",
      "File \u001b[1;32m~\\AppData\\Local\\Packages\\PythonSoftwareFoundation.Python.3.11_qbz5n2kfra8p0\\LocalCache\\local-packages\\Python311\\site-packages\\urllib3\\response.py:1043\u001b[0m, in \u001b[0;36mHTTPResponse.stream\u001b[1;34m(self, amt, decode_content)\u001b[0m\n\u001b[0;32m   1042\u001b[0m \u001b[38;5;28;01mwhile\u001b[39;00m \u001b[38;5;129;01mnot\u001b[39;00m is_fp_closed(\u001b[38;5;28mself\u001b[39m\u001b[38;5;241m.\u001b[39m_fp) \u001b[38;5;129;01mor\u001b[39;00m \u001b[38;5;28mlen\u001b[39m(\u001b[38;5;28mself\u001b[39m\u001b[38;5;241m.\u001b[39m_decoded_buffer) \u001b[38;5;241m>\u001b[39m \u001b[38;5;241m0\u001b[39m:\n\u001b[1;32m-> 1043\u001b[0m     data \u001b[38;5;241m=\u001b[39m \u001b[38;5;28;43mself\u001b[39;49m\u001b[38;5;241;43m.\u001b[39;49m\u001b[43mread\u001b[49m\u001b[43m(\u001b[49m\u001b[43mamt\u001b[49m\u001b[38;5;241;43m=\u001b[39;49m\u001b[43mamt\u001b[49m\u001b[43m,\u001b[49m\u001b[43m \u001b[49m\u001b[43mdecode_content\u001b[49m\u001b[38;5;241;43m=\u001b[39;49m\u001b[43mdecode_content\u001b[49m\u001b[43m)\u001b[49m\n\u001b[0;32m   1045\u001b[0m     \u001b[38;5;28;01mif\u001b[39;00m data:\n",
      "File \u001b[1;32m~\\AppData\\Local\\Packages\\PythonSoftwareFoundation.Python.3.11_qbz5n2kfra8p0\\LocalCache\\local-packages\\Python311\\site-packages\\urllib3\\response.py:963\u001b[0m, in \u001b[0;36mHTTPResponse.read\u001b[1;34m(self, amt, decode_content, cache_content)\u001b[0m\n\u001b[0;32m    959\u001b[0m \u001b[38;5;28;01mwhile\u001b[39;00m \u001b[38;5;28mlen\u001b[39m(\u001b[38;5;28mself\u001b[39m\u001b[38;5;241m.\u001b[39m_decoded_buffer) \u001b[38;5;241m<\u001b[39m amt \u001b[38;5;129;01mand\u001b[39;00m data:\n\u001b[0;32m    960\u001b[0m     \u001b[38;5;66;03m# TODO make sure to initially read enough data to get past the headers\u001b[39;00m\n\u001b[0;32m    961\u001b[0m     \u001b[38;5;66;03m# For example, the GZ file header takes 10 bytes, we don't want to read\u001b[39;00m\n\u001b[0;32m    962\u001b[0m     \u001b[38;5;66;03m# it one byte at a time\u001b[39;00m\n\u001b[1;32m--> 963\u001b[0m     data \u001b[38;5;241m=\u001b[39m \u001b[38;5;28;43mself\u001b[39;49m\u001b[38;5;241;43m.\u001b[39;49m\u001b[43m_raw_read\u001b[49m\u001b[43m(\u001b[49m\u001b[43mamt\u001b[49m\u001b[43m)\u001b[49m\n\u001b[0;32m    964\u001b[0m     decoded_data \u001b[38;5;241m=\u001b[39m \u001b[38;5;28mself\u001b[39m\u001b[38;5;241m.\u001b[39m_decode(data, decode_content, flush_decoder)\n",
      "File \u001b[1;32m~\\AppData\\Local\\Packages\\PythonSoftwareFoundation.Python.3.11_qbz5n2kfra8p0\\LocalCache\\local-packages\\Python311\\site-packages\\urllib3\\response.py:861\u001b[0m, in \u001b[0;36mHTTPResponse._raw_read\u001b[1;34m(self, amt, read1)\u001b[0m\n\u001b[0;32m    859\u001b[0m fp_closed \u001b[38;5;241m=\u001b[39m \u001b[38;5;28mgetattr\u001b[39m(\u001b[38;5;28mself\u001b[39m\u001b[38;5;241m.\u001b[39m_fp, \u001b[38;5;124m\"\u001b[39m\u001b[38;5;124mclosed\u001b[39m\u001b[38;5;124m\"\u001b[39m, \u001b[38;5;28;01mFalse\u001b[39;00m)\n\u001b[1;32m--> 861\u001b[0m \u001b[43m\u001b[49m\u001b[38;5;28;43;01mwith\u001b[39;49;00m\u001b[43m \u001b[49m\u001b[38;5;28;43mself\u001b[39;49m\u001b[38;5;241;43m.\u001b[39;49m\u001b[43m_error_catcher\u001b[49m\u001b[43m(\u001b[49m\u001b[43m)\u001b[49m\u001b[43m:\u001b[49m\n\u001b[0;32m    862\u001b[0m \u001b[43m    \u001b[49m\u001b[43mdata\u001b[49m\u001b[43m \u001b[49m\u001b[38;5;241;43m=\u001b[39;49m\u001b[43m \u001b[49m\u001b[38;5;28;43mself\u001b[39;49m\u001b[38;5;241;43m.\u001b[39;49m\u001b[43m_fp_read\u001b[49m\u001b[43m(\u001b[49m\u001b[43mamt\u001b[49m\u001b[43m,\u001b[49m\u001b[43m \u001b[49m\u001b[43mread1\u001b[49m\u001b[38;5;241;43m=\u001b[39;49m\u001b[43mread1\u001b[49m\u001b[43m)\u001b[49m\u001b[43m \u001b[49m\u001b[38;5;28;43;01mif\u001b[39;49;00m\u001b[43m \u001b[49m\u001b[38;5;129;43;01mnot\u001b[39;49;00m\u001b[43m \u001b[49m\u001b[43mfp_closed\u001b[49m\u001b[43m \u001b[49m\u001b[38;5;28;43;01melse\u001b[39;49;00m\u001b[43m \u001b[49m\u001b[38;5;124;43mb\u001b[39;49m\u001b[38;5;124;43m\"\u001b[39;49m\u001b[38;5;124;43m\"\u001b[39;49m\n",
      "File \u001b[1;32mC:\\Program Files\\WindowsApps\\PythonSoftwareFoundation.Python.3.11_3.11.2544.0_x64__qbz5n2kfra8p0\\Lib\\contextlib.py:158\u001b[0m, in \u001b[0;36m_GeneratorContextManager.__exit__\u001b[1;34m(self, typ, value, traceback)\u001b[0m\n\u001b[0;32m    157\u001b[0m \u001b[38;5;28;01mtry\u001b[39;00m:\n\u001b[1;32m--> 158\u001b[0m     \u001b[38;5;28mself\u001b[39m\u001b[38;5;241m.\u001b[39mgen\u001b[38;5;241m.\u001b[39mthrow(typ, value, traceback)\n\u001b[0;32m    159\u001b[0m \u001b[38;5;28;01mexcept\u001b[39;00m \u001b[38;5;167;01mStopIteration\u001b[39;00m \u001b[38;5;28;01mas\u001b[39;00m exc:\n\u001b[0;32m    160\u001b[0m     \u001b[38;5;66;03m# Suppress StopIteration *unless* it's the same exception that\u001b[39;00m\n\u001b[0;32m    161\u001b[0m     \u001b[38;5;66;03m# was passed to throw().  This prevents a StopIteration\u001b[39;00m\n\u001b[0;32m    162\u001b[0m     \u001b[38;5;66;03m# raised inside the \"with\" statement from being suppressed.\u001b[39;00m\n",
      "File \u001b[1;32m~\\AppData\\Local\\Packages\\PythonSoftwareFoundation.Python.3.11_qbz5n2kfra8p0\\LocalCache\\local-packages\\Python311\\site-packages\\urllib3\\response.py:761\u001b[0m, in \u001b[0;36mHTTPResponse._error_catcher\u001b[1;34m(self)\u001b[0m\n\u001b[0;32m    760\u001b[0m         arg \u001b[38;5;241m=\u001b[39m \u001b[38;5;124mf\u001b[39m\u001b[38;5;124m\"\u001b[39m\u001b[38;5;124mConnection broken: \u001b[39m\u001b[38;5;132;01m{\u001b[39;00me\u001b[38;5;132;01m!r}\u001b[39;00m\u001b[38;5;124m\"\u001b[39m\n\u001b[1;32m--> 761\u001b[0m     \u001b[38;5;28;01mraise\u001b[39;00m ProtocolError(arg, e) \u001b[38;5;28;01mfrom\u001b[39;00m \u001b[38;5;21;01me\u001b[39;00m\n\u001b[0;32m    763\u001b[0m \u001b[38;5;28;01mexcept\u001b[39;00m (HTTPException, \u001b[38;5;167;01mOSError\u001b[39;00m) \u001b[38;5;28;01mas\u001b[39;00m e:\n",
      "\u001b[1;31mProtocolError\u001b[0m: ('Connection broken: IncompleteRead(923207993 bytes read, 4624870561 more expected)', IncompleteRead(923207993 bytes read, 4624870561 more expected))",
      "\nDuring handling of the above exception, another exception occurred:\n",
      "\u001b[1;31mChunkedEncodingError\u001b[0m                      Traceback (most recent call last)",
      "Cell \u001b[1;32mIn[1], line 3\u001b[0m\n\u001b[0;32m      1\u001b[0m \u001b[38;5;66;03m# Load model directly\u001b[39;00m\n\u001b[0;32m      2\u001b[0m \u001b[38;5;28;01mfrom\u001b[39;00m \u001b[38;5;21;01mtransformers\u001b[39;00m \u001b[38;5;28;01mimport\u001b[39;00m AutoModel\n\u001b[1;32m----> 3\u001b[0m model \u001b[38;5;241m=\u001b[39m \u001b[43mAutoModel\u001b[49m\u001b[38;5;241;43m.\u001b[39;49m\u001b[43mfrom_pretrained\u001b[49m\u001b[43m(\u001b[49m\u001b[38;5;124;43m\"\u001b[39;49m\u001b[38;5;124;43mhavenhq/mamba-chat\u001b[39;49m\u001b[38;5;124;43m\"\u001b[39;49m\u001b[43m)\u001b[49m\n",
      "File \u001b[1;32m~\\AppData\\Local\\Packages\\PythonSoftwareFoundation.Python.3.11_qbz5n2kfra8p0\\LocalCache\\local-packages\\Python311\\site-packages\\transformers\\models\\auto\\auto_factory.py:563\u001b[0m, in \u001b[0;36m_BaseAutoModelClass.from_pretrained\u001b[1;34m(cls, pretrained_model_name_or_path, *model_args, **kwargs)\u001b[0m\n\u001b[0;32m    561\u001b[0m \u001b[38;5;28;01melif\u001b[39;00m \u001b[38;5;28mtype\u001b[39m(config) \u001b[38;5;129;01min\u001b[39;00m \u001b[38;5;28mcls\u001b[39m\u001b[38;5;241m.\u001b[39m_model_mapping\u001b[38;5;241m.\u001b[39mkeys():\n\u001b[0;32m    562\u001b[0m     model_class \u001b[38;5;241m=\u001b[39m _get_model_class(config, \u001b[38;5;28mcls\u001b[39m\u001b[38;5;241m.\u001b[39m_model_mapping)\n\u001b[1;32m--> 563\u001b[0m     \u001b[38;5;28;01mreturn\u001b[39;00m \u001b[43mmodel_class\u001b[49m\u001b[38;5;241;43m.\u001b[39;49m\u001b[43mfrom_pretrained\u001b[49m\u001b[43m(\u001b[49m\n\u001b[0;32m    564\u001b[0m \u001b[43m        \u001b[49m\u001b[43mpretrained_model_name_or_path\u001b[49m\u001b[43m,\u001b[49m\u001b[43m \u001b[49m\u001b[38;5;241;43m*\u001b[39;49m\u001b[43mmodel_args\u001b[49m\u001b[43m,\u001b[49m\u001b[43m \u001b[49m\u001b[43mconfig\u001b[49m\u001b[38;5;241;43m=\u001b[39;49m\u001b[43mconfig\u001b[49m\u001b[43m,\u001b[49m\u001b[43m \u001b[49m\u001b[38;5;241;43m*\u001b[39;49m\u001b[38;5;241;43m*\u001b[39;49m\u001b[43mhub_kwargs\u001b[49m\u001b[43m,\u001b[49m\u001b[43m \u001b[49m\u001b[38;5;241;43m*\u001b[39;49m\u001b[38;5;241;43m*\u001b[39;49m\u001b[43mkwargs\u001b[49m\n\u001b[0;32m    565\u001b[0m \u001b[43m    \u001b[49m\u001b[43m)\u001b[49m\n\u001b[0;32m    566\u001b[0m \u001b[38;5;28;01mraise\u001b[39;00m \u001b[38;5;167;01mValueError\u001b[39;00m(\n\u001b[0;32m    567\u001b[0m     \u001b[38;5;124mf\u001b[39m\u001b[38;5;124m\"\u001b[39m\u001b[38;5;124mUnrecognized configuration class \u001b[39m\u001b[38;5;132;01m{\u001b[39;00mconfig\u001b[38;5;241m.\u001b[39m\u001b[38;5;18m__class__\u001b[39m\u001b[38;5;132;01m}\u001b[39;00m\u001b[38;5;124m for this kind of AutoModel: \u001b[39m\u001b[38;5;132;01m{\u001b[39;00m\u001b[38;5;28mcls\u001b[39m\u001b[38;5;241m.\u001b[39m\u001b[38;5;18m__name__\u001b[39m\u001b[38;5;132;01m}\u001b[39;00m\u001b[38;5;124m.\u001b[39m\u001b[38;5;130;01m\\n\u001b[39;00m\u001b[38;5;124m\"\u001b[39m\n\u001b[0;32m    568\u001b[0m     \u001b[38;5;124mf\u001b[39m\u001b[38;5;124m\"\u001b[39m\u001b[38;5;124mModel type should be one of \u001b[39m\u001b[38;5;132;01m{\u001b[39;00m\u001b[38;5;124m'\u001b[39m\u001b[38;5;124m, \u001b[39m\u001b[38;5;124m'\u001b[39m\u001b[38;5;241m.\u001b[39mjoin(c\u001b[38;5;241m.\u001b[39m\u001b[38;5;18m__name__\u001b[39m\u001b[38;5;250m \u001b[39m\u001b[38;5;28;01mfor\u001b[39;00m\u001b[38;5;250m \u001b[39mc\u001b[38;5;250m \u001b[39m\u001b[38;5;129;01min\u001b[39;00m\u001b[38;5;250m \u001b[39m\u001b[38;5;28mcls\u001b[39m\u001b[38;5;241m.\u001b[39m_model_mapping\u001b[38;5;241m.\u001b[39mkeys())\u001b[38;5;132;01m}\u001b[39;00m\u001b[38;5;124m.\u001b[39m\u001b[38;5;124m\"\u001b[39m\n\u001b[0;32m    569\u001b[0m )\n",
      "File \u001b[1;32m~\\AppData\\Local\\Packages\\PythonSoftwareFoundation.Python.3.11_qbz5n2kfra8p0\\LocalCache\\local-packages\\Python311\\site-packages\\transformers\\modeling_utils.py:3219\u001b[0m, in \u001b[0;36mPreTrainedModel.from_pretrained\u001b[1;34m(cls, pretrained_model_name_or_path, config, cache_dir, ignore_mismatched_sizes, force_download, local_files_only, token, revision, use_safetensors, *model_args, **kwargs)\u001b[0m\n\u001b[0;32m   3216\u001b[0m     \u001b[38;5;28;01melse\u001b[39;00m:\n\u001b[0;32m   3217\u001b[0m         \u001b[38;5;66;03m# This repo has no safetensors file of any kind, we switch to PyTorch.\u001b[39;00m\n\u001b[0;32m   3218\u001b[0m         filename \u001b[38;5;241m=\u001b[39m _add_variant(WEIGHTS_NAME, variant)\n\u001b[1;32m-> 3219\u001b[0m         resolved_archive_file \u001b[38;5;241m=\u001b[39m \u001b[43mcached_file\u001b[49m\u001b[43m(\u001b[49m\n\u001b[0;32m   3220\u001b[0m \u001b[43m            \u001b[49m\u001b[43mpretrained_model_name_or_path\u001b[49m\u001b[43m,\u001b[49m\u001b[43m \u001b[49m\u001b[43mfilename\u001b[49m\u001b[43m,\u001b[49m\u001b[43m \u001b[49m\u001b[38;5;241;43m*\u001b[39;49m\u001b[38;5;241;43m*\u001b[39;49m\u001b[43mcached_file_kwargs\u001b[49m\n\u001b[0;32m   3221\u001b[0m \u001b[43m        \u001b[49m\u001b[43m)\u001b[49m\n\u001b[0;32m   3222\u001b[0m \u001b[38;5;28;01mif\u001b[39;00m resolved_archive_file \u001b[38;5;129;01mis\u001b[39;00m \u001b[38;5;28;01mNone\u001b[39;00m \u001b[38;5;129;01mand\u001b[39;00m filename \u001b[38;5;241m==\u001b[39m _add_variant(WEIGHTS_NAME, variant):\n\u001b[0;32m   3223\u001b[0m     \u001b[38;5;66;03m# Maybe the checkpoint is sharded, we try to grab the index name in this case.\u001b[39;00m\n\u001b[0;32m   3224\u001b[0m     resolved_archive_file \u001b[38;5;241m=\u001b[39m cached_file(\n\u001b[0;32m   3225\u001b[0m         pretrained_model_name_or_path,\n\u001b[0;32m   3226\u001b[0m         _add_variant(WEIGHTS_INDEX_NAME, variant),\n\u001b[0;32m   3227\u001b[0m         \u001b[38;5;241m*\u001b[39m\u001b[38;5;241m*\u001b[39mcached_file_kwargs,\n\u001b[0;32m   3228\u001b[0m     )\n",
      "File \u001b[1;32m~\\AppData\\Local\\Packages\\PythonSoftwareFoundation.Python.3.11_qbz5n2kfra8p0\\LocalCache\\local-packages\\Python311\\site-packages\\transformers\\utils\\hub.py:398\u001b[0m, in \u001b[0;36mcached_file\u001b[1;34m(path_or_repo_id, filename, cache_dir, force_download, resume_download, proxies, token, revision, local_files_only, subfolder, repo_type, user_agent, _raise_exceptions_for_gated_repo, _raise_exceptions_for_missing_entries, _raise_exceptions_for_connection_errors, _commit_hash, **deprecated_kwargs)\u001b[0m\n\u001b[0;32m    395\u001b[0m user_agent \u001b[38;5;241m=\u001b[39m http_user_agent(user_agent)\n\u001b[0;32m    396\u001b[0m \u001b[38;5;28;01mtry\u001b[39;00m:\n\u001b[0;32m    397\u001b[0m     \u001b[38;5;66;03m# Load from URL or cache if already cached\u001b[39;00m\n\u001b[1;32m--> 398\u001b[0m     resolved_file \u001b[38;5;241m=\u001b[39m \u001b[43mhf_hub_download\u001b[49m\u001b[43m(\u001b[49m\n\u001b[0;32m    399\u001b[0m \u001b[43m        \u001b[49m\u001b[43mpath_or_repo_id\u001b[49m\u001b[43m,\u001b[49m\n\u001b[0;32m    400\u001b[0m \u001b[43m        \u001b[49m\u001b[43mfilename\u001b[49m\u001b[43m,\u001b[49m\n\u001b[0;32m    401\u001b[0m \u001b[43m        \u001b[49m\u001b[43msubfolder\u001b[49m\u001b[38;5;241;43m=\u001b[39;49m\u001b[38;5;28;43;01mNone\u001b[39;49;00m\u001b[43m \u001b[49m\u001b[38;5;28;43;01mif\u001b[39;49;00m\u001b[43m \u001b[49m\u001b[38;5;28;43mlen\u001b[39;49m\u001b[43m(\u001b[49m\u001b[43msubfolder\u001b[49m\u001b[43m)\u001b[49m\u001b[43m \u001b[49m\u001b[38;5;241;43m==\u001b[39;49m\u001b[43m \u001b[49m\u001b[38;5;241;43m0\u001b[39;49m\u001b[43m \u001b[49m\u001b[38;5;28;43;01melse\u001b[39;49;00m\u001b[43m \u001b[49m\u001b[43msubfolder\u001b[49m\u001b[43m,\u001b[49m\n\u001b[0;32m    402\u001b[0m \u001b[43m        \u001b[49m\u001b[43mrepo_type\u001b[49m\u001b[38;5;241;43m=\u001b[39;49m\u001b[43mrepo_type\u001b[49m\u001b[43m,\u001b[49m\n\u001b[0;32m    403\u001b[0m \u001b[43m        \u001b[49m\u001b[43mrevision\u001b[49m\u001b[38;5;241;43m=\u001b[39;49m\u001b[43mrevision\u001b[49m\u001b[43m,\u001b[49m\n\u001b[0;32m    404\u001b[0m \u001b[43m        \u001b[49m\u001b[43mcache_dir\u001b[49m\u001b[38;5;241;43m=\u001b[39;49m\u001b[43mcache_dir\u001b[49m\u001b[43m,\u001b[49m\n\u001b[0;32m    405\u001b[0m \u001b[43m        \u001b[49m\u001b[43muser_agent\u001b[49m\u001b[38;5;241;43m=\u001b[39;49m\u001b[43muser_agent\u001b[49m\u001b[43m,\u001b[49m\n\u001b[0;32m    406\u001b[0m \u001b[43m        \u001b[49m\u001b[43mforce_download\u001b[49m\u001b[38;5;241;43m=\u001b[39;49m\u001b[43mforce_download\u001b[49m\u001b[43m,\u001b[49m\n\u001b[0;32m    407\u001b[0m \u001b[43m        \u001b[49m\u001b[43mproxies\u001b[49m\u001b[38;5;241;43m=\u001b[39;49m\u001b[43mproxies\u001b[49m\u001b[43m,\u001b[49m\n\u001b[0;32m    408\u001b[0m \u001b[43m        \u001b[49m\u001b[43mresume_download\u001b[49m\u001b[38;5;241;43m=\u001b[39;49m\u001b[43mresume_download\u001b[49m\u001b[43m,\u001b[49m\n\u001b[0;32m    409\u001b[0m \u001b[43m        \u001b[49m\u001b[43mtoken\u001b[49m\u001b[38;5;241;43m=\u001b[39;49m\u001b[43mtoken\u001b[49m\u001b[43m,\u001b[49m\n\u001b[0;32m    410\u001b[0m \u001b[43m        \u001b[49m\u001b[43mlocal_files_only\u001b[49m\u001b[38;5;241;43m=\u001b[39;49m\u001b[43mlocal_files_only\u001b[49m\u001b[43m,\u001b[49m\n\u001b[0;32m    411\u001b[0m \u001b[43m    \u001b[49m\u001b[43m)\u001b[49m\n\u001b[0;32m    412\u001b[0m \u001b[38;5;28;01mexcept\u001b[39;00m GatedRepoError \u001b[38;5;28;01mas\u001b[39;00m e:\n\u001b[0;32m    413\u001b[0m     resolved_file \u001b[38;5;241m=\u001b[39m _get_cache_file_to_return(path_or_repo_id, full_filename, cache_dir, revision)\n",
      "File \u001b[1;32m~\\AppData\\Local\\Packages\\PythonSoftwareFoundation.Python.3.11_qbz5n2kfra8p0\\LocalCache\\local-packages\\Python311\\site-packages\\huggingface_hub\\utils\\_validators.py:119\u001b[0m, in \u001b[0;36mvalidate_hf_hub_args.<locals>._inner_fn\u001b[1;34m(*args, **kwargs)\u001b[0m\n\u001b[0;32m    116\u001b[0m \u001b[38;5;28;01mif\u001b[39;00m check_use_auth_token:\n\u001b[0;32m    117\u001b[0m     kwargs \u001b[38;5;241m=\u001b[39m smoothly_deprecate_use_auth_token(fn_name\u001b[38;5;241m=\u001b[39mfn\u001b[38;5;241m.\u001b[39m\u001b[38;5;18m__name__\u001b[39m, has_token\u001b[38;5;241m=\u001b[39mhas_token, kwargs\u001b[38;5;241m=\u001b[39mkwargs)\n\u001b[1;32m--> 119\u001b[0m \u001b[38;5;28;01mreturn\u001b[39;00m \u001b[43mfn\u001b[49m\u001b[43m(\u001b[49m\u001b[38;5;241;43m*\u001b[39;49m\u001b[43margs\u001b[49m\u001b[43m,\u001b[49m\u001b[43m \u001b[49m\u001b[38;5;241;43m*\u001b[39;49m\u001b[38;5;241;43m*\u001b[39;49m\u001b[43mkwargs\u001b[49m\u001b[43m)\u001b[49m\n",
      "File \u001b[1;32m~\\AppData\\Local\\Packages\\PythonSoftwareFoundation.Python.3.11_qbz5n2kfra8p0\\LocalCache\\local-packages\\Python311\\site-packages\\huggingface_hub\\file_download.py:1492\u001b[0m, in \u001b[0;36mhf_hub_download\u001b[1;34m(repo_id, filename, subfolder, repo_type, revision, library_name, library_version, cache_dir, local_dir, local_dir_use_symlinks, user_agent, force_download, force_filename, proxies, etag_timeout, resume_download, token, local_files_only, headers, legacy_cache_layout, endpoint)\u001b[0m\n\u001b[0;32m   1489\u001b[0m         \u001b[38;5;28;01mif\u001b[39;00m local_dir \u001b[38;5;129;01mis\u001b[39;00m \u001b[38;5;129;01mnot\u001b[39;00m \u001b[38;5;28;01mNone\u001b[39;00m:\n\u001b[0;32m   1490\u001b[0m             _check_disk_space(expected_size, local_dir)\n\u001b[1;32m-> 1492\u001b[0m     \u001b[43mhttp_get\u001b[49m\u001b[43m(\u001b[49m\n\u001b[0;32m   1493\u001b[0m \u001b[43m        \u001b[49m\u001b[43murl_to_download\u001b[49m\u001b[43m,\u001b[49m\n\u001b[0;32m   1494\u001b[0m \u001b[43m        \u001b[49m\u001b[43mtemp_file\u001b[49m\u001b[43m,\u001b[49m\n\u001b[0;32m   1495\u001b[0m \u001b[43m        \u001b[49m\u001b[43mproxies\u001b[49m\u001b[38;5;241;43m=\u001b[39;49m\u001b[43mproxies\u001b[49m\u001b[43m,\u001b[49m\n\u001b[0;32m   1496\u001b[0m \u001b[43m        \u001b[49m\u001b[43mresume_size\u001b[49m\u001b[38;5;241;43m=\u001b[39;49m\u001b[43mresume_size\u001b[49m\u001b[43m,\u001b[49m\n\u001b[0;32m   1497\u001b[0m \u001b[43m        \u001b[49m\u001b[43mheaders\u001b[49m\u001b[38;5;241;43m=\u001b[39;49m\u001b[43mheaders\u001b[49m\u001b[43m,\u001b[49m\n\u001b[0;32m   1498\u001b[0m \u001b[43m        \u001b[49m\u001b[43mexpected_size\u001b[49m\u001b[38;5;241;43m=\u001b[39;49m\u001b[43mexpected_size\u001b[49m\u001b[43m,\u001b[49m\n\u001b[0;32m   1499\u001b[0m \u001b[43m        \u001b[49m\u001b[43mdisplayed_filename\u001b[49m\u001b[38;5;241;43m=\u001b[39;49m\u001b[43mfilename\u001b[49m\u001b[43m,\u001b[49m\n\u001b[0;32m   1500\u001b[0m \u001b[43m    \u001b[49m\u001b[43m)\u001b[49m\n\u001b[0;32m   1502\u001b[0m \u001b[38;5;28;01mif\u001b[39;00m local_dir \u001b[38;5;129;01mis\u001b[39;00m \u001b[38;5;28;01mNone\u001b[39;00m:\n\u001b[0;32m   1503\u001b[0m     logger\u001b[38;5;241m.\u001b[39mdebug(\u001b[38;5;124mf\u001b[39m\u001b[38;5;124m\"\u001b[39m\u001b[38;5;124mStoring \u001b[39m\u001b[38;5;132;01m{\u001b[39;00murl\u001b[38;5;132;01m}\u001b[39;00m\u001b[38;5;124m in cache at \u001b[39m\u001b[38;5;132;01m{\u001b[39;00mblob_path\u001b[38;5;132;01m}\u001b[39;00m\u001b[38;5;124m\"\u001b[39m)\n",
      "File \u001b[1;32m~\\AppData\\Local\\Packages\\PythonSoftwareFoundation.Python.3.11_qbz5n2kfra8p0\\LocalCache\\local-packages\\Python311\\site-packages\\huggingface_hub\\file_download.py:535\u001b[0m, in \u001b[0;36mhttp_get\u001b[1;34m(url, temp_file, proxies, resume_size, headers, expected_size, displayed_filename, _nb_retries, _tqdm_bar)\u001b[0m\n\u001b[0;32m    533\u001b[0m new_resume_size \u001b[38;5;241m=\u001b[39m resume_size\n\u001b[0;32m    534\u001b[0m \u001b[38;5;28;01mtry\u001b[39;00m:\n\u001b[1;32m--> 535\u001b[0m \u001b[43m    \u001b[49m\u001b[38;5;28;43;01mfor\u001b[39;49;00m\u001b[43m \u001b[49m\u001b[43mchunk\u001b[49m\u001b[43m \u001b[49m\u001b[38;5;129;43;01min\u001b[39;49;00m\u001b[43m \u001b[49m\u001b[43mr\u001b[49m\u001b[38;5;241;43m.\u001b[39;49m\u001b[43miter_content\u001b[49m\u001b[43m(\u001b[49m\u001b[43mchunk_size\u001b[49m\u001b[38;5;241;43m=\u001b[39;49m\u001b[43mDOWNLOAD_CHUNK_SIZE\u001b[49m\u001b[43m)\u001b[49m\u001b[43m:\u001b[49m\n\u001b[0;32m    536\u001b[0m \u001b[43m        \u001b[49m\u001b[38;5;28;43;01mif\u001b[39;49;00m\u001b[43m \u001b[49m\u001b[43mchunk\u001b[49m\u001b[43m:\u001b[49m\u001b[43m  \u001b[49m\u001b[38;5;66;43;03m# filter out keep-alive new chunks\u001b[39;49;00m\n\u001b[0;32m    537\u001b[0m \u001b[43m            \u001b[49m\u001b[43mprogress\u001b[49m\u001b[38;5;241;43m.\u001b[39;49m\u001b[43mupdate\u001b[49m\u001b[43m(\u001b[49m\u001b[38;5;28;43mlen\u001b[39;49m\u001b[43m(\u001b[49m\u001b[43mchunk\u001b[49m\u001b[43m)\u001b[49m\u001b[43m)\u001b[49m\n",
      "File \u001b[1;32m~\\AppData\\Local\\Packages\\PythonSoftwareFoundation.Python.3.11_qbz5n2kfra8p0\\LocalCache\\local-packages\\Python311\\site-packages\\requests\\models.py:818\u001b[0m, in \u001b[0;36mResponse.iter_content.<locals>.generate\u001b[1;34m()\u001b[0m\n\u001b[0;32m    816\u001b[0m     \u001b[38;5;28;01myield from\u001b[39;00m \u001b[38;5;28mself\u001b[39m\u001b[38;5;241m.\u001b[39mraw\u001b[38;5;241m.\u001b[39mstream(chunk_size, decode_content\u001b[38;5;241m=\u001b[39m\u001b[38;5;28;01mTrue\u001b[39;00m)\n\u001b[0;32m    817\u001b[0m \u001b[38;5;28;01mexcept\u001b[39;00m ProtocolError \u001b[38;5;28;01mas\u001b[39;00m e:\n\u001b[1;32m--> 818\u001b[0m     \u001b[38;5;28;01mraise\u001b[39;00m ChunkedEncodingError(e)\n\u001b[0;32m    819\u001b[0m \u001b[38;5;28;01mexcept\u001b[39;00m DecodeError \u001b[38;5;28;01mas\u001b[39;00m e:\n\u001b[0;32m    820\u001b[0m     \u001b[38;5;28;01mraise\u001b[39;00m ContentDecodingError(e)\n",
      "\u001b[1;31mChunkedEncodingError\u001b[0m: ('Connection broken: IncompleteRead(923207993 bytes read, 4624870561 more expected)', IncompleteRead(923207993 bytes read, 4624870561 more expected))"
     ]
    }
   ],
   "source": [
    "# Load model directly\n",
    "from transformers import AutoModel\n",
    "model = AutoModel.from_pretrained(\"havenhq/mamba-chat\")"
   ]
  },
  {
   "cell_type": "code",
   "execution_count": 2,
   "metadata": {},
   "outputs": [
    {
     "name": "stderr",
     "output_type": "stream",
     "text": [
      "\n",
      "llama_print_timings:        load time =   75618.98 ms\n",
      "llama_print_timings:      sample time =       4.52 ms /    16 runs   (    0.28 ms per token,  3539.82 tokens per second)\n",
      "llama_print_timings: prompt eval time =  135370.57 ms /   891 tokens (  151.93 ms per token,     6.58 tokens per second)\n",
      "llama_print_timings:        eval time =    5052.37 ms /    15 runs   (  336.82 ms per token,     2.97 tokens per second)\n",
      "llama_print_timings:       total time =  140472.43 ms /   906 tokens\n"
     ]
    }
   ],
   "source": [
    "output = llm(     \n",
    "\"Выведи 3 сотрудников (вместе с id) которые больше всего релевантны к запросу: Кто может предоставить информацию о процессе создания дизайн-проектов интерьеров?\" + \"\\n\"+ open('ttt.txt', encoding='utf-8').read(),     \n",
    "temperature=0.5,     \n",
    "stop = [\"/n\", \"Question:\", \"Q:\"],     \n",
    "echo=True \n",
    ")"
   ]
  },
  {
   "cell_type": "code",
   "execution_count": 13,
   "metadata": {},
   "outputs": [
    {
     "data": {
      "text/plain": [
       "{'id': 'cmpl-62960ac9-5587-4307-bb94-0d167ed98ba0',\n",
       " 'object': 'text_completion',\n",
       " 'created': 1713529325,\n",
       " 'model': 'C:\\\\Users\\\\kopyr\\\\Downloads\\\\mistral-7b-instruct-v0.2.Q3_K_M.gguf',\n",
       " 'choices': [{'text': \"Выведи 3 сотрудников (вместе с id) которые больше всего релевантны к запросу: Кто может предоставить информацию о процессе создания дизайн-проектов интерьеров?\\nСмирнова Анна id=0 ['Создание дизайн-проектов интерьеров', 'Подбор отделочных материалов', 'Визуализация проектов', 'Отдел архитектурного проектирования', 'Дизайнер интерьера']\\nНикитин Артем id=2 ['Помощь в создании макетов продуктов', 'Подготовка материалов для презентаций', 'Анализ трендов в дизайне', 'Студия промышленного дизайна', 'Ассистент дизайнера']\\nСидоров Дмитрий id=0 ['Управление креативным процессом', 'Разработка концепций дизайна', 'Курирование работы дизайнеров', 'Студия веб-дизайна', 'Арт-директор']\\nПетрова Екатерина id=1 ['Создание концепций архитектурных решений', 'Разработка планировочных решений для интерьеров', 'Взаимодействие с заказчиками и поставщиками', 'Отдел интерьеров', 'Архитектор-дизайнер']\\nСидорова Екатерина id=0 ['Управление творческим процессом', 'Разработка концепций проектов', 'Контроль за качеством дизайнерских решений', 'Отдел графического дизайна', 'Арт-директор']\\nИванова Анна id=3 ['Разработка эскизов продуктов', 'Проработка дизайна упаковки', 'Взаимодействие с инженерами для создания функциональных продуктов', 'Студия промышленного дизайна', 'Дизайнер']\\nНикитина Ольга id=0 ['Создание трёхмерных визуализаций интерьеров', 'Работа с графическими программами', 'Воплощение идей дизайн-проектов в виртуальной среде', 'Отдел интерьеров', '3D-визуализатор']\\nСидорова Елена id=1 ['Разработка дизайна промышленных изделий', 'Проведение анализа конкурентов', 'Подготовка презентаций дизайн-концепций', 'Студия промышленного дизайна', 'Ведущий дизайнер']\\nИванова Анна id=1 ['Разработка дизайна веб-сайтов', 'Создание макетов и прототипов', 'Работа с графическими редакторами', 'Студия веб-дизайна', 'Веб-дизайнер']\\nПетров Алексей id=0 ['Управление процессом дизайна продуктов', 'Разработка концепций новых продуктов', 'Курирование работы дизайнеров', 'Студия промышленного дизайна', 'Главный дизайнер']\\nСмирнова Анна id=2 ['Подготовка матери\",\n",
       "   'index': 0,\n",
       "   'logprobs': None,\n",
       "   'finish_reason': 'length'}],\n",
       " 'usage': {'prompt_tokens': 891, 'completion_tokens': 16, 'total_tokens': 907}}"
      ]
     },
     "execution_count": 13,
     "metadata": {},
     "output_type": "execute_result"
    }
   ],
   "source": [
    "output"
   ]
  },
  {
   "cell_type": "code",
   "execution_count": 3,
   "metadata": {},
   "outputs": [],
   "source": [
    "answer = llm.create_chat_completion(\n",
    "    messages = [\n",
    "        {\n",
    "            \"role\": \"user\",\n",
    "            \"content\": \"Выведи 3 сотрудников (вместе с id) которые больше всего релевантны к запросу: Кто может предоставить информацию о процессе создания дизайн-проектов интерьеров?\" + \"\\n\"+ open('ttt.txt', encoding='utf-8').read()\n",
    "        }\n",
    "    ]\n",
    ")"
   ]
  },
  {
   "cell_type": "code",
   "execution_count": 7,
   "metadata": {},
   "outputs": [
    {
     "name": "stdout",
     "output_type": "stream",
     "text": [
      "{'id': 'chatcmpl-067f0651-5aa8-4b54-be47-253a63743a0d', 'object': 'chat.completion', 'created': 1713766757, 'model': 'C:\\\\Users\\\\kopyr\\\\Downloads\\\\mistral-7b-instruct-v0.2.Q3_K_M.gguf', 'choices': [{'index': 0, 'message': {'role': 'assistant', 'content': ' Based on the given information, here are three employees who are most relevant to providing information about the process of creating design projects for interiors:\\n\\n1. Смирнова Анна (id=0) - She is listed as having a role in \"Создание дизайн-проектов интерьеров,\" which directly relates to the process of creating interior design projects.\\n2. Сидоров Дмитрий (id=0) - He has roles related to managing and overseeing the creative process, including \"Управление творческим процессом\" and \"Арт-директор.\" These roles suggest that he may have a broad understanding of the entire design project creation process.\\n3. Петрова Екатерина (id=1) - She has roles related to both creating concepts for architectural solutions and coordinating projects, which could provide valuable insights into the process of creating interior design projects from conception to completion.\\n\\nThese three employees have a combination of direct involvement in the creation of interior design projects and management roles that would give them a comprehensive understanding of the entire process.'}, 'logprobs': None, 'finish_reason': 'stop'}], 'usage': {'prompt_tokens': 4130, 'completion_tokens': 236, 'total_tokens': 4366}}\n",
      " Based on the given information, here are three employees who are most relevant to providing information about the process of creating design projects for interiors:\n",
      "\n",
      "1. Смирнова Анна (id=0) - She is listed as having a role in \"Создание дизайн-проектов интерьеров,\" which directly relates to the process of creating interior design projects.\n",
      "2. Сидоров Дмитрий (id=0) - He has roles related to managing and overseeing the creative process, including \"Управление творческим процессом\" and \"Арт-директор.\" These roles suggest that he may have a broad understanding of the entire design project creation process.\n",
      "3. Петрова Екатерина (id=1) - She has roles related to both creating concepts for architectural solutions and coordinating projects, which could provide valuable insights into the process of creating interior design projects from conception to completion.\n",
      "\n",
      "These three employees have a combination of direct involvement in the creation of interior design projects and management roles that would give them a comprehensive understanding of the entire process.\n"
     ]
    }
   ],
   "source": [
    "\n",
    "print(answer)\n",
    "print(answer['choices'][0]['message']['content'])\n"
   ]
  },
  {
   "cell_type": "code",
   "execution_count": 4,
   "metadata": {},
   "outputs": [
    {
     "name": "stdout",
     "output_type": "stream",
     "text": [
      "{'id': 'chatcmpl-6d74bf1d-3eb0-440e-b7db-420f7643e88d', 'object': 'chat.completion', 'created': 1713470162, 'model': 'C:\\\\Users\\\\kopyr\\\\Downloads\\\\mistral-7b-instruct-v0.2.Q3_K_M.gguf', 'choices': [{'index': 0, 'message': {'role': 'assistant', 'content': ' Title: The Forgotten Heir\\n\\nGenre: Historical Fiction, Romance, Adventure\\n\\nBook Synopsis:\\n\\nIn the heart of medieval England, amidst the chaos of war and political intrigue, a long-lost heir emerges from the shadows. When Lady Elinor, a humble servant girl, stumbles upon an ancient prophecy foretelling her royal lineage, she is thrust into a world of danger, deception, and desire.\\n\\nElinor\\'s life takes a dramatic turn as she is whisked away from her simple existence to the grandeur of the royal court. There, she must navigate the treacherous waters of courtly politics and forge alliances while grappling with her newfound identity and the expectations that come with it.\\n\\nAs Elinor learns to embrace her destiny, she finds herself drawn to Sir William, a gallant knight who has sworn to protect her. But their blossoming romance is complicated by the machinations of the cunning Lord Blackthorn, who will stop at nothing to see Elinor fail and claim the throne for himself.\\n\\nTogether, Elinor and William embark on a thrilling journey filled with adventure, danger, and passion as they race against time to uncover the truth about her past and secure her future as the rightful heir to the throne.\\n\\nThe Forgotten Heir is an enthralling tale of love, loyalty, and self-discovery set against the backdrop of medieval England\\'s rich history and intrigue.\\n\\nChapter One: The Servant Girl\\n\\nIn the dimly lit kitchen of Lord Ravenswood\\'s manor, Elinor, a young servant girl with chestnut curls and bright hazel eyes, busied herself preparing the evening meal for her master and his guests. Her nimble fingers deftly chopped vegetables, her mind lost in thought as she hummed a lilting melody under her breath.\\n\\nThe manor was abuzz with anticipation; tonight, Lord Ravenswood was hosting a grand feast to celebrate the return of the king\\'s emissary from the capital. Elinor had heard whispers of the event all day long as she went about her chores. The entire household was ablaze with excitement, and it wasn\\'t just because of the sumptuous meal she was preparing.\\n\\nAs the sun began to set, casting long shadows across the manor grounds, Elinor took a moment to rest her aching back against the cool stone wall. Her thoughts drifted to her mother, who had passed away when she was but a child. She wondered what her life would have been like if she had not been orphaned and forced to serve in Lord Ravenswood\\'s household.\\n\\nSuddenly, a gust of wind swept through the open kitchen window, carrying with it the sound of voices raised in heated debate outside. Elinor\\'s heart quickened as she listened intently, her curiosity piqued. She pressed her ear against the windowpane, straining to make out the words.\\n\\n\"...the prophecy...the true heir...\" Lord Blackthorn\\'s voice cut through the din, sending a shiver down Elinor\\'s spine. \"Nonsense! The king is dead, and with him, the old lineage. It\\'s time we accept the new order.\"\\n\\n\"But my lord,\" another voice protested, \"the prophecy has been passed down through generations. It speaks of a forgotten heir who will rise to claim the throne when the realm is in dire need.\"\\n\\nLord Blackthorn scoffed. \"That\\'s just an old wives\\' tale. Besides, we have the king\\'s decree. The lineage has ended with him.\"\\n\\nElinor\\'s heart raced as she listened to their conversation, her mind racing with possibilities. Could it be that she was the forgotten heir? She had always felt a deep connection to the land and its people, a sense of belonging that went beyond her humble servant status. But how could she prove it? And if she did, what would become of her in Lord Blackthorn\\'s treacherous court?\\n\\nAs the voices outside grew louder, Elinor retreated back into the kitchen, her thoughts swirling with the implications of the prophecy and the danger it posed. She knew that she could not keep this secret to herself for long. The fate of the realm, and her own, hung in the balance.\\n\\nAnd so, Elinor began to make her plans, her heart filled with a newfound sense of purpose and determination. She would uncover the truth about her past, embrace her destiny, and secure her future as the rightful heir to the throne. But first, she needed allies and answers. And for that, she would have to leave the safety of Lord Ravenswood\\'s manor and embark on a perilous journey filled with adventure, danger, and passion.\\n\\nAs Elinor set out on her quest, she could not help but feel a sense of exhilaration mixed with fear. She knew that the road ahead would be fraught with challenges, both personal and political. But she also knew that she was not alone. By her side, she had Sir William, a gallant knight who had sworn to protect her, and the unwavering support of her loyal friends.\\n\\nTogether, Elinor and Sir William embarked on an adventure filled with intrigue, danger, and passion as they raced against time to uncover the truth about her past and secure her future as the rightful heir to the throne. Along the way, they would face treacherous enemies, cunning adversaries, and unexpected allies, all while navigating the complex web of courtly politics and forging a bond that would prove stronger than any obstacle in their path.\\n\\nThe Forgotten Heir is an enthralling tale of love, loyalty, and self-discovery set against the backdrop of medieval England\\'s rich history and intrigue. It is a story of courage, resilience, and the power of destiny to shape even the most unlikely of heroes. So, join Elinor on her journey as she uncovers the truth about her past, embraces her destiny, and claims her rightful place in history as the forgotten heir.'}, 'logprobs': None, 'finish_reason': 'stop'}], 'usage': {'prompt_tokens': 6, 'completion_tokens': 1384, 'total_tokens': 1390}}\n",
      " Title: The Forgotten Heir\n",
      "\n",
      "Genre: Historical Fiction, Romance, Adventure\n",
      "\n",
      "Book Synopsis:\n",
      "\n",
      "In the heart of medieval England, amidst the chaos of war and political intrigue, a long-lost heir emerges from the shadows. When Lady Elinor, a humble servant girl, stumbles upon an ancient prophecy foretelling her royal lineage, she is thrust into a world of danger, deception, and desire.\n",
      "\n",
      "Elinor's life takes a dramatic turn as she is whisked away from her simple existence to the grandeur of the royal court. There, she must navigate the treacherous waters of courtly politics and forge alliances while grappling with her newfound identity and the expectations that come with it.\n",
      "\n",
      "As Elinor learns to embrace her destiny, she finds herself drawn to Sir William, a gallant knight who has sworn to protect her. But their blossoming romance is complicated by the machinations of the cunning Lord Blackthorn, who will stop at nothing to see Elinor fail and claim the throne for himself.\n",
      "\n",
      "Together, Elinor and William embark on a thrilling journey filled with adventure, danger, and passion as they race against time to uncover the truth about her past and secure her future as the rightful heir to the throne.\n",
      "\n",
      "The Forgotten Heir is an enthralling tale of love, loyalty, and self-discovery set against the backdrop of medieval England's rich history and intrigue.\n",
      "\n",
      "Chapter One: The Servant Girl\n",
      "\n",
      "In the dimly lit kitchen of Lord Ravenswood's manor, Elinor, a young servant girl with chestnut curls and bright hazel eyes, busied herself preparing the evening meal for her master and his guests. Her nimble fingers deftly chopped vegetables, her mind lost in thought as she hummed a lilting melody under her breath.\n",
      "\n",
      "The manor was abuzz with anticipation; tonight, Lord Ravenswood was hosting a grand feast to celebrate the return of the king's emissary from the capital. Elinor had heard whispers of the event all day long as she went about her chores. The entire household was ablaze with excitement, and it wasn't just because of the sumptuous meal she was preparing.\n",
      "\n",
      "As the sun began to set, casting long shadows across the manor grounds, Elinor took a moment to rest her aching back against the cool stone wall. Her thoughts drifted to her mother, who had passed away when she was but a child. She wondered what her life would have been like if she had not been orphaned and forced to serve in Lord Ravenswood's household.\n",
      "\n",
      "Suddenly, a gust of wind swept through the open kitchen window, carrying with it the sound of voices raised in heated debate outside. Elinor's heart quickened as she listened intently, her curiosity piqued. She pressed her ear against the windowpane, straining to make out the words.\n",
      "\n",
      "\"...the prophecy...the true heir...\" Lord Blackthorn's voice cut through the din, sending a shiver down Elinor's spine. \"Nonsense! The king is dead, and with him, the old lineage. It's time we accept the new order.\"\n",
      "\n",
      "\"But my lord,\" another voice protested, \"the prophecy has been passed down through generations. It speaks of a forgotten heir who will rise to claim the throne when the realm is in dire need.\"\n",
      "\n",
      "Lord Blackthorn scoffed. \"That's just an old wives' tale. Besides, we have the king's decree. The lineage has ended with him.\"\n",
      "\n",
      "Elinor's heart raced as she listened to their conversation, her mind racing with possibilities. Could it be that she was the forgotten heir? She had always felt a deep connection to the land and its people, a sense of belonging that went beyond her humble servant status. But how could she prove it? And if she did, what would become of her in Lord Blackthorn's treacherous court?\n",
      "\n",
      "As the voices outside grew louder, Elinor retreated back into the kitchen, her thoughts swirling with the implications of the prophecy and the danger it posed. She knew that she could not keep this secret to herself for long. The fate of the realm, and her own, hung in the balance.\n",
      "\n",
      "And so, Elinor began to make her plans, her heart filled with a newfound sense of purpose and determination. She would uncover the truth about her past, embrace her destiny, and secure her future as the rightful heir to the throne. But first, she needed allies and answers. And for that, she would have to leave the safety of Lord Ravenswood's manor and embark on a perilous journey filled with adventure, danger, and passion.\n",
      "\n",
      "As Elinor set out on her quest, she could not help but feel a sense of exhilaration mixed with fear. She knew that the road ahead would be fraught with challenges, both personal and political. But she also knew that she was not alone. By her side, she had Sir William, a gallant knight who had sworn to protect her, and the unwavering support of her loyal friends.\n",
      "\n",
      "Together, Elinor and Sir William embarked on an adventure filled with intrigue, danger, and passion as they raced against time to uncover the truth about her past and secure her future as the rightful heir to the throne. Along the way, they would face treacherous enemies, cunning adversaries, and unexpected allies, all while navigating the complex web of courtly politics and forging a bond that would prove stronger than any obstacle in their path.\n",
      "\n",
      "The Forgotten Heir is an enthralling tale of love, loyalty, and self-discovery set against the backdrop of medieval England's rich history and intrigue. It is a story of courage, resilience, and the power of destiny to shape even the most unlikely of heroes. So, join Elinor on her journey as she uncovers the truth about her past, embraces her destiny, and claims her rightful place in history as the forgotten heir.\n"
     ]
    }
   ],
   "source": [
    "print(answer)\n",
    "print(answer['choices'][0]['message']['content'])"
   ]
  },
  {
   "cell_type": "code",
   "execution_count": 7,
   "metadata": {},
   "outputs": [
    {
     "name": "stdout",
     "output_type": "stream",
     "text": [
      "Смирнова Анна id=0 ['Создание дизайн-проектов интерьеров', 'Подбор отделочных материалов', 'Визуализация проектов', 'Отдел архитектурного проектирования', 'Дизайнер интерьера']\n",
      "Никитин Артем id=2 ['Помощь в создании макетов продуктов', 'Подготовка материалов для презентаций', 'Анализ трендов в дизайне', 'Студия промышленного дизайна', 'Ассистент дизайнера']\n",
      "Сидоров Дмитрий id=0 ['Управление креативным процессом', 'Разработка концепций дизайна', 'Курирование работы дизайнеров', 'Студия веб-дизайна', 'Арт-директор']\n",
      "Петрова Екатерина id=1 ['Создание концепций архитектурных решений', 'Разработка планировочных решений для интерьеров', 'Взаимодействие с заказчиками и поставщиками', 'Отдел интерьеров', 'Архитектор-дизайнер']\n",
      "Сидорова Екатерина id=0 ['Управление творческим процессом', 'Разработка концепций проектов', 'Контроль за качеством дизайнерских решений', 'Отдел графического дизайна', 'Арт-директор']\n",
      "Иванова Анна id=3 ['Разработка эскизов продуктов', 'Проработка дизайна упаковки', 'Взаимодействие с инженерами для создания функциональных продуктов', 'Студия промышленного дизайна', 'Дизайнер']\n",
      "Никитина Ольга id=0 ['Создание трёхмерных визуализаций интерьеров', 'Работа с графическими программами', 'Воплощение идей дизайн-проектов в виртуальной среде', 'Отдел интерьеров', '3D-визуализатор']\n",
      "Сидорова Елена id=1 ['Разработка дизайна промышленных изделий', 'Проведение анализа конкурентов', 'Подготовка презентаций дизайн-концепций', 'Студия промышленного дизайна', 'Ведущий дизайнер']\n",
      "Иванова Анна id=1 ['Разработка дизайна веб-сайтов', 'Создание макетов и прототипов', 'Работа с графическими редакторами', 'Студия веб-дизайна', 'Веб-дизайнер']\n",
      "Петров Алексей id=0 ['Управление процессом дизайна продуктов', 'Разработка концепций новых продуктов', 'Курирование работы дизайнеров', 'Студия промышленного дизайна', 'Главный дизайнер']\n",
      "Козлов Дмитрий id=3 ['Поиск идей для дизайна новых продуктов', 'Разработка визуализаций концепций', 'Тестирование дизайн-прототипов', 'Студия промышленного дизайна', 'Дизайнер-концептуалист']\n",
      "Козлова Ольга id=1 ['Создание дизайна веб-страниц', 'Оптимизация пользовательского интерфейса', 'Работа с адаптивным дизайном', 'Отдел графического дизайна', 'Веб-дизайнер']\n",
      "Иванова Анна id=2 ['Разработка дизайн-проектов помещений', 'Подготовка чертежей и визуализаций', 'Подбор материалов и мебели для интерьера', 'Отдел интерьеров', 'Дизайнер интерьеров']\n",
      "Сидоров Алексей id=0 ['Помощь клиентам в выборе стиля интерьера', 'Консультирование по декорированию помещений', 'Разработка цветовых схем и дизайн-концепций', 'Отдел интерьеров', 'Дизайнер-консультант']\n",
      "Козлов Алексей id=0 ['Разработка технических заданий', 'Согласование проектов с заказчиками', 'Участие в проектировании инженерных систем', 'Отдел архитектурного проектирования', 'Проектировщик']\n",
      "Попова Екатерина id=4 ['Согласование действий участников проекта', 'Поддержание коммуникации внутри проектной группы', 'Помощь в решении организационных вопросов', 'Отдел планирования', 'Координатор проектов']\n",
      "Никитин Дмитрий id=1 ['Проектирование пользовательского интерфейса', 'Тестирование пользовательского опыта', 'Разработка дизайна мобильных приложений', 'Отдел графического дизайна', 'UX/UI дизайнер']\n",
      "Иванова Мария id=0 ['Разработка макетов для веб-сайтов', 'Создание рекламных баннеров', 'Работа с корпоративным стилем', 'Отдел графического дизайна', 'Графический дизайнер']\n",
      "Никитина Мария id=0 ['Создание иллюстраций для веб-сайтов', 'Разработка персонажей', 'Интеграция графики в дизайн', 'Студия веб-дизайна', 'Иллюстратор']\n",
      "Никитин Дмитрий id=0 ['Консультирование клиентов по архитектурным вопросам', 'Анализ архитектурных проектов', 'Участие в презентациях проектов', 'Отдел архитектурного проектирования', 'Архитектурный консультант']\n",
      "Попова Екатерина id=3 ['Разработка проектной документации', 'Проектирование инженерных коммуникаций', 'Координация проектных работ', 'Отдел ВКХ', 'Инженер-проектировщик']\n",
      "Петров Игорь id=0 ['Разработка чертежей строительных элементов', 'Использование специализированного программного обеспечения для проектирования', 'Участие в согласовании проектной документации с заказчиком', 'Отдел строительных конструкций', 'Проектировщик конструкций']\n",
      "Петрова Елена id=0 ['Создание концепций дизайна интерьеров и экстерьеров', 'Работа с цветовыми и текстурными решениями', 'Применение инновационных технологий в архитектурном дизайне', 'Лаборатория городской архитектуры', 'Архитектурный дизайнер']\n",
      "Павлов Дмитрий id=0 ['Разработка ландшафтных проектов', 'Планирование озеленения территорий', 'Создание дизайн-концепций для благоустройства', 'Отдел зданий и сооружений', 'Ландшафтный дизайнер']\n",
      "Иванов Петр id=0 ['Разработка архитектурных концепций', 'Проектирование зданий и сооружений', 'Координация проектных работ', 'Отдел архитектурного проектирования', 'Архитектор']\n",
      "Козлов Алексей id=3 ['Создание рекламных баннеров', 'Разработка логотипов и фирменного стиля', 'Верстка презентаций', 'Студия веб-дизайна', 'Графический дизайнер']\n",
      "Иванова Анна id=0 ['Разработка дизайн-проектов благоустройства территорий', 'Подготовка чертежей и эскизов', 'Взаимодействие с заказчиками и подрядчиками', 'Отдел ландшафтного дизайна', 'Ландшафтный архитектор']\n",
      "Никитин Алексей id=0 ['Создание дизайн-проектов благоустройства городских пространств', 'Разработка концепций оформления городской среды', 'Использование современных технологий в градостроительном дизайне', 'Отдел градостроительства', 'Градостроительный дизайнер']\n",
      "Сидорова Елена id=0 ['Проектирование архитектурных форм и элементов ландшафта', 'Разработка технической документации', 'Консультирование клиентов по вопросам благоустройства', 'Отдел ландшафтного дизайна', 'Архитектор-ландшафтник']\n",
      "Петров Дмитрий id=0 ['Создание концепций ландшафтного дизайна', 'Подбор растений и материалов для озеленения', 'Участие в планировании и организации работ на объекте', 'Отдел ландшафтного дизайна', 'Ландшафтный дизайнер']\n",
      "Петрова Екатерина id=0 ['Исследование пользовательских потребностей', 'Разработка пользовательских интерфейсов', 'Тестирование пользовательского опыта', 'Студия веб-дизайна', 'UX/UI дизайнер']\n",
      "Петров Алексей id=1 ['Создание иллюстраций для презентаций', 'Разработка персонажей', 'Оформление книжных изданий', 'Отдел графического дизайна', 'Иллюстратор']\n",
      "Иванов Петр id=10 ['Разработка технической документации', 'Проектирование инженерных систем', 'Участие в технических совещаниях', 'Отдел ВКХ', 'Инженер-конструктор']\n",
      "Сидоров Алексей id=1 ['Координация работы инженеров-конструкторов', 'Утверждение проектной документации', 'Контроль за выполнением строительных работ', 'Отдел строительных конструкций', 'Технический руководитель']\n",
      "Морозов Антон id=0 ['Разработка пользовательских интерфейсов', 'Тестирование и оптимизация UX/UI', 'Создание прототипов и макетов', 'Отдел разработки ПО', 'UX/UI дизайнер']\n",
      "Смирнова Анна id=5 ['Разработка дизайн-проектов интерьеров исторических зданий', 'Подбор стилистических решений с учетом исторического наследия', 'Визуализация проектов', 'Группа исторического наследия', 'Дизайнер интерьера']\n",
      "Смирнова Анна id=1 ['Проектирование архитектуры программных решений', 'Оценка технической реализуемости проектов', 'Участие в научно-исследовательских работах', 'Лаборатория инновационных решений', 'Архитектор']\n",
      "Никитин Дмитрий id=3 ['Разработка планов проекта', 'Управление ресурсами проекта', 'Мониторинг выполнения этапов проекта', 'Отдел планирования', 'Планировщик проектов']\n",
      "Иванов Петр id=2 ['Разработка архитектурных проектов зданий и сооружений', 'Проектирование градостроительных объектов', 'Работа с геодезическими данными', 'Отдел градостроительства', 'Архитектор']\n",
      "Иванов Петр id=16 ['Планирование и контроль выполнения проектов', 'Взаимодействие с заказчиками', 'Управление ресурсами проекта', 'Отдел анализа проектов', 'Менеджер проектов']\n",
      "Иванов Петр id=7 ['Разработка технических заданий на строительные конструкции', 'Проектирование строительных элементов', 'Контроль соблюдения технических норм и стандартов', 'Отдел строительных конструкций', 'Инженер-конструктор']\n",
      "Попова Екатерина id=0 ['Проектирование ландшафтных композиций', 'Разработка садово-парковых проектов', 'Подбор растений и декоративных элементов', 'Отдел архитектурного проектирования', 'Ландшафтный архитектор']\n",
      "Никитин Дмитрий id=6 ['Поддержка проектных команд', 'Участие в разработке планов проектов', 'Анализ рисков и разработка планов мероприятий по их снижению', 'Отдел анализа проектов', 'Специалист по управлению проектами']\n",
      "Иванов Петр id=1 ['Разработка технических заданий', 'Проектирование инновационных решений', 'Тестирование прототипов', 'Лаборатория инновационных решений', 'Инженер-проектировщик']\n",
      "Иванов Петр id=8 ['Разработка новых материалов', 'Испытание и анализ свойств материалов', 'Проектирование конструкций', 'Лаборатория материаловедения', 'Инженер-конструктор']\n",
      "Никитин Артем id=0 ['Планирование садовых композиций и элементов', 'Организация систем полива и освещения', 'Работа с архитектурными акцентами в саду', 'Отдел ландшафтного дизайна', 'Садовый архитектор']\n",
      "Смирнова Анна id=9 ['Анализ требований к проекту', 'Подготовка отчетов о выполнении проекта', 'Оценка рисков проекта', 'Отдел планирования', 'Аналитик проектов']\n",
      "Попова Екатерина id=5 ['Организация взаимодействия различных отделов в рамках проектов', 'Контроль выполнения задач по проектам', 'Поддержание коммуникации между участниками проектов', 'Отдел контроля качества проектов', 'Координатор проектов']\n"
     ]
    }
   ],
   "source": [
    "print(open('ttt.txt', encoding='utf-8').read())"
   ]
  },
  {
   "cell_type": "code",
   "execution_count": 2,
   "metadata": {},
   "outputs": [],
   "source": [
    "import ollama\n",
    "\n",
    "r = \"Кто занимается Интеграцией графики в дизайн?\"\n",
    "stream = ollama.generate(\n",
    "    model='llama3',\n",
    "    prompt=f\"Используя эти данные: {open('ttt.txt', encoding='utf-8').read()}. Выбери наиболее подходящих сотрудников из: {r} ответ верни в формате json\",\n",
    "    options={\n",
    "        'temperature': 0.8,\n",
    "             }\n",
    ")\n",
    "\n"
   ]
  },
  {
   "cell_type": "code",
   "execution_count": 18,
   "metadata": {},
   "outputs": [
    {
     "name": "stdout",
     "output_type": "stream",
     "text": [
      "Based on the provided data, I can help you identify the most suitable employees for a specific task.\n",
      "\n",
      "To answer your question, who is responsible for integrating graphics in design?\n",
      "\n",
      "According to the data, the following employees are involved in graphic design and integration:\n",
      "\n",
      "* Петров Алексей (id=1) - Иллюстратор\n",
      "* Морозов Антон (id=0) - UX/UI дизайнер\n",
      "* Смирнова Анна (id=5) - Дизайнер интерьера\n",
      "\n",
      "These employees have experience in graphic design, illustration, and user interface/user experience (UX/UI) design. They may be suitable for integrating graphics into a design project.\n",
      "\n",
      "Here is the answer in JSON format:\n",
      "```\n",
      "[\n",
      "  {\n",
      "    \"name\": \"Петров Алексей\",\n",
      "    \"id\": 1,\n",
      "    \"role\": \"Иллюстратор\"\n",
      "  },\n",
      "  {\n",
      "    \"name\": \"Морозов Антон\",\n",
      "    \"id\": 0,\n",
      "    \"role\": \"UX/UI дизайнер\"\n",
      "  },\n",
      "  {\n",
      "    \"name\": \"Смирнова Анна\",\n",
      "    \"id\": 5,\n",
      "    \"role\": \"Дизайнер интерьера\"\n",
      "  }\n",
      "]\n",
      "```\n"
     ]
    }
   ],
   "source": [
    "print(stream[\"response\"])"
   ]
  },
  {
   "cell_type": "code",
   "execution_count": 1,
   "metadata": {},
   "outputs": [
    {
     "name": "stdout",
     "output_type": "stream",
     "text": [
      "C:\\Program Files\\WindowsApps\\PythonSoftwareFoundation.Python.3.11_3.11.2544.0_x64__qbz5n2kfra8p0\n"
     ]
    }
   ],
   "source": []
  }
 ],
 "metadata": {
  "kernelspec": {
   "display_name": "Python 3",
   "language": "python",
   "name": "python3"
  },
  "language_info": {
   "codemirror_mode": {
    "name": "ipython",
    "version": 3
   },
   "file_extension": ".py",
   "mimetype": "text/x-python",
   "name": "python",
   "nbconvert_exporter": "python",
   "pygments_lexer": "ipython3",
   "version": "3.11.9"
  }
 },
 "nbformat": 4,
 "nbformat_minor": 2
}
